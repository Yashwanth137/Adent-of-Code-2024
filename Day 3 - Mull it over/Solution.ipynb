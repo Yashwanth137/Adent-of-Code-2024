{
 "cells": [
  {
   "cell_type": "code",
   "execution_count": 1,
   "id": "546c8e25",
   "metadata": {},
   "outputs": [],
   "source": [
    "# Part 1"
   ]
  },
  {
   "cell_type": "code",
   "execution_count": 2,
   "id": "5c3f0aad",
   "metadata": {},
   "outputs": [
    {
     "name": "stdout",
     "output_type": "stream",
     "text": [
      "174561379\n"
     ]
    }
   ],
   "source": [
    "import re\n",
    "\n",
    "pattern = r\"mul\\((\\d{1,3}),(\\d{1,3})\\)\"\n",
    "res = 0\n",
    "\n",
    "with open('input.txt', 'r') as file:\n",
    "    for line in file:\n",
    "        matches = re.findall(pattern, line)\n",
    "        res += sum(int(x)*int(y) for x,y in matches)\n",
    "\n",
    "print(res)"
   ]
  },
  {
   "cell_type": "code",
   "execution_count": 3,
   "id": "8d32c87a",
   "metadata": {},
   "outputs": [],
   "source": [
    "# Part 2 with condtions - do, dont"
   ]
  },
  {
   "cell_type": "code",
   "execution_count": 4,
   "id": "a3197e80",
   "metadata": {},
   "outputs": [
    {
     "name": "stdout",
     "output_type": "stream",
     "text": [
      "106921067\n"
     ]
    }
   ],
   "source": [
    "pattern = r\"(do\\(\\)|don't\\(\\)|mul\\((\\d{1,3}),(\\d{1,3})\\))\"\n",
    "\n",
    "ans = 0\n",
    "flag = True\n",
    "\n",
    "with open('input.txt', 'r') as file:\n",
    "    for line in file:\n",
    "        matches = re.finditer(pattern, line)\n",
    "        for match in matches:\n",
    "            instruction = match.group(0)\n",
    "            if instruction == \"do()\":\n",
    "                flag = True\n",
    "            elif instruction == \"don't()\":\n",
    "                flag = False\n",
    "            elif \"mul(\" in instruction and flag:\n",
    "                x, y = map(int, match.groups()[1:3])\n",
    "                ans += x * y\n",
    "\n",
    "print(ans)"
   ]
  },
  {
   "cell_type": "code",
   "execution_count": null,
   "id": "05a9477b",
   "metadata": {},
   "outputs": [],
   "source": []
  }
 ],
 "metadata": {
  "kernelspec": {
   "display_name": "Python 3",
   "language": "python",
   "name": "python3"
  },
  "language_info": {
   "codemirror_mode": {
    "name": "ipython",
    "version": 3
   },
   "file_extension": ".py",
   "mimetype": "text/x-python",
   "name": "python",
   "nbconvert_exporter": "python",
   "pygments_lexer": "ipython3",
   "version": "3.8.8"
  }
 },
 "nbformat": 4,
 "nbformat_minor": 5
}
