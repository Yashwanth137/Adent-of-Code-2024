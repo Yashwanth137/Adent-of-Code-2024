{
 "cells": [
  {
   "cell_type": "code",
   "execution_count": 1,
   "id": "da7addb8",
   "metadata": {},
   "outputs": [],
   "source": [
    "col1 = []\n",
    "col2 = []\n",
    "res = 0"
   ]
  },
  {
   "cell_type": "code",
   "execution_count": 2,
   "id": "991482a4",
   "metadata": {},
   "outputs": [],
   "source": [
    "# Part - 1\n",
    "#total distance between your lists"
   ]
  },
  {
   "cell_type": "code",
   "execution_count": 3,
   "id": "a053dbe5",
   "metadata": {},
   "outputs": [
    {
     "name": "stdout",
     "output_type": "stream",
     "text": [
      "1879048\n"
     ]
    }
   ],
   "source": [
    "with open('input.txt', 'r') as file:\n",
    "    for line in file:\n",
    "        num1, num2 = map(int, line.split())\n",
    "        \n",
    "        col1.append(num1)\n",
    "        col2.append(num2)\n",
    "        \n",
    "col1.sort()\n",
    "col2.sort()\n",
    "\n",
    "for i, j in zip(col1, col2):\n",
    "    res += abs(i-j)\n",
    "    \n",
    "print(res)"
   ]
  },
  {
   "cell_type": "code",
   "execution_count": 4,
   "id": "551b7ad6",
   "metadata": {},
   "outputs": [],
   "source": [
    "# Part - 2\n",
    "#similarity score"
   ]
  },
  {
   "cell_type": "code",
   "execution_count": 5,
   "id": "0856c6d2",
   "metadata": {},
   "outputs": [
    {
     "name": "stdout",
     "output_type": "stream",
     "text": [
      "Total Similarity Score: 21024792\n"
     ]
    }
   ],
   "source": [
    "from collections import Counter\n",
    "\n",
    "num_count_list = Counter(col2)\n",
    "\n",
    "total_score = sum(left * num_count_list[left] for left in col1)\n",
    "\n",
    "print(\"Total Similarity Score:\", total_score)\n"
   ]
  },
  {
   "cell_type": "code",
   "execution_count": null,
   "id": "915ebbba",
   "metadata": {},
   "outputs": [],
   "source": []
  }
 ],
 "metadata": {
  "kernelspec": {
   "display_name": "Python 3",
   "language": "python",
   "name": "python3"
  },
  "language_info": {
   "codemirror_mode": {
    "name": "ipython",
    "version": 3
   },
   "file_extension": ".py",
   "mimetype": "text/x-python",
   "name": "python",
   "nbconvert_exporter": "python",
   "pygments_lexer": "ipython3",
   "version": "3.8.8"
  }
 },
 "nbformat": 4,
 "nbformat_minor": 5
}
