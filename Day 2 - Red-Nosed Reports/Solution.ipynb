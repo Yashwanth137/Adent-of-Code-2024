{
 "cells": [
  {
   "cell_type": "code",
   "execution_count": null,
   "id": "4a9bf0ae",
   "metadata": {},
   "outputs": [],
   "source": [
    "# Part - 1: How many reports are safe?"
   ]
  },
  {
   "cell_type": "code",
   "execution_count": 11,
   "id": "618bea9d",
   "metadata": {},
   "outputs": [
    {
     "name": "stdout",
     "output_type": "stream",
     "text": [
      "660\n"
     ]
    }
   ],
   "source": [
    "def is_safe(reports):\n",
    "    for i in range(len(reports)-1):\n",
    "        dif = reports[i+1] - reports[i]\n",
    "            \n",
    "        if not (1 <= abs(dif) <= 3):\n",
    "            return False\n",
    "            \n",
    "        if i > 0:\n",
    "            prev_dif = reports[i] - reports[i-1]\n",
    "            if (dif > 0 and prev_dif < 0) or (dif < 0 and prev_dif > 0):\n",
    "                return False\n",
    "            \n",
    "    return True\n",
    "\n",
    "safe_count = 0\n",
    "with open('input.txt', 'r') as file:\n",
    "    for line in file:\n",
    "        reports = [int(num) for num in line.split()]\n",
    "        \n",
    "        if is_safe(reports):\n",
    "            safe_count += 1\n",
    "\n",
    "print(safe_count)"
   ]
  },
  {
   "cell_type": "code",
   "execution_count": 13,
   "id": "c826c569",
   "metadata": {},
   "outputs": [],
   "source": [
    "# Part 2: How many reports are now safe after removing single level?"
   ]
  },
  {
   "cell_type": "code",
   "execution_count": 15,
   "id": "b100f5df",
   "metadata": {},
   "outputs": [
    {
     "name": "stdout",
     "output_type": "stream",
     "text": [
      "689\n"
     ]
    }
   ],
   "source": [
    "def is_safe_with_removal(report):\n",
    "    for i in range(len(report)):\n",
    "        new_report = report[:i] + report[i+1:]\n",
    "        if is_safe(new_report):\n",
    "            return True\n",
    "    return False\n",
    "        \n",
    "safe_count = 0\n",
    "\n",
    "with open('input.txt', 'r') as file:\n",
    "    for line in file:\n",
    "        reports = [int(num) for num in line.split()]\n",
    "        \n",
    "        if is_safe(reports):\n",
    "            safe_count += 1\n",
    "        elif is_safe_with_removal(reports):\n",
    "            safe_count += 1\n",
    "            \n",
    "print(safe_count)"
   ]
  },
  {
   "cell_type": "code",
   "execution_count": null,
   "id": "4e3565a8",
   "metadata": {},
   "outputs": [],
   "source": []
  }
 ],
 "metadata": {
  "kernelspec": {
   "display_name": "Python 3",
   "language": "python",
   "name": "python3"
  },
  "language_info": {
   "codemirror_mode": {
    "name": "ipython",
    "version": 3
   },
   "file_extension": ".py",
   "mimetype": "text/x-python",
   "name": "python",
   "nbconvert_exporter": "python",
   "pygments_lexer": "ipython3",
   "version": "3.8.8"
  }
 },
 "nbformat": 4,
 "nbformat_minor": 5
}
